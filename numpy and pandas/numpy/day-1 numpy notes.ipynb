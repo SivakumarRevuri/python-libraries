{
 "cells": [
  {
   "cell_type": "code",
   "execution_count": 1,
   "id": "58fba33b",
   "metadata": {},
   "outputs": [
    {
     "data": {
      "text/plain": [
       "'1.21.5'"
      ]
     },
     "execution_count": 1,
     "metadata": {},
     "output_type": "execute_result"
    }
   ],
   "source": [
    "import numpy as np\n",
    "np.__version__"
   ]
  },
  {
   "cell_type": "code",
   "execution_count": 2,
   "id": "8ddea0e4",
   "metadata": {
    "scrolled": true
   },
   "outputs": [
    {
     "ename": "TypeError",
     "evalue": "can only concatenate list (not \"int\") to list",
     "output_type": "error",
     "traceback": [
      "\u001b[1;31m---------------------------------------------------------------------------\u001b[0m",
      "\u001b[1;31mTypeError\u001b[0m                                 Traceback (most recent call last)",
      "Input \u001b[1;32mIn [2]\u001b[0m, in \u001b[0;36m<cell line: 4>\u001b[1;34m()\u001b[0m\n\u001b[0;32m      2\u001b[0m list1 \u001b[38;5;241m=\u001b[39m [\u001b[38;5;241m10\u001b[39m,\u001b[38;5;241m20\u001b[39m,\u001b[38;5;241m30\u001b[39m,\u001b[38;5;241m40\u001b[39m]\n\u001b[0;32m      3\u001b[0m array1 \u001b[38;5;241m=\u001b[39m np\u001b[38;5;241m.\u001b[39marray([\u001b[38;5;241m10\u001b[39m,\u001b[38;5;241m20\u001b[39m,\u001b[38;5;241m30\u001b[39m,\u001b[38;5;241m40\u001b[39m])\n\u001b[1;32m----> 4\u001b[0m \u001b[43mlist1\u001b[49m\u001b[38;5;241;43m+\u001b[39;49m\u001b[38;5;241;43m2\u001b[39;49m\n",
      "\u001b[1;31mTypeError\u001b[0m: can only concatenate list (not \"int\") to list"
     ]
    }
   ],
   "source": [
    "import numpy as np\n",
    "list1 = [10,20,30,40]\n",
    "array1 = np.array([10,20,30,40])\n",
    "list1+2 # not possible"
   ]
  },
  {
   "cell_type": "code",
   "execution_count": 3,
   "id": "d4d5fc84",
   "metadata": {},
   "outputs": [
    {
     "data": {
      "text/plain": [
       "array([12, 22, 32, 42])"
      ]
     },
     "execution_count": 3,
     "metadata": {},
     "output_type": "execute_result"
    }
   ],
   "source": [
    "import numpy as np\n",
    "array1 = np.array([10,20,30,40])\n",
    "array1+2 # array([12,22,32,42])"
   ]
  },
  {
   "cell_type": "code",
   "execution_count": 4,
   "id": "affaf448",
   "metadata": {},
   "outputs": [
    {
     "name": "stdout",
     "output_type": "stream",
     "text": [
      "The Size of list l =>  216\n",
      "The Size of ndarray a =>  184\n"
     ]
    }
   ],
   "source": [
    "import numpy as np\n",
    "import sys\n",
    "l = [10,20,30,40,50,60,70,80,90,100,10,20,30,40,50,60,70,80,90,100]\n",
    "a = np.array([10,20,30,40,50,60,70,80,90,100,10,20,30,40,50,60,70,80,90,100])\n",
    "print('The Size of list l => ',sys.getsizeof(l))\n",
    "print('The Size of ndarray a => ',sys.getsizeof(a))"
   ]
  },
  {
   "cell_type": "code",
   "execution_count": 5,
   "id": "5e30402b",
   "metadata": {},
   "outputs": [
    {
     "name": "stdout",
     "output_type": "stream",
     "text": [
      "The Time taken by traditonal python: 0:00:05.848978\n",
      "The Time taken by Numpy Library: 0:00:04.618354\n"
     ]
    }
   ],
   "source": [
    "import numpy as np\n",
    "from datetime import datetime\n",
    "a = np.array([10,20,30])\n",
    "b = np.array([1,2,3])\n",
    "#dot product: A.B=10X1 + 20X2 +30X3=140\n",
    "#traditional python code\n",
    "def dot_product(a,b):\n",
    " result = 0\n",
    " for i,j in zip(a,b):\n",
    "     result = result + i*j\n",
    " return result\n",
    "before = datetime.now()\n",
    "for i in range(1000000):\n",
    " dot_product(a,b)\n",
    "after = datetime.now()\n",
    "print('The Time taken by traditonal python:',after-before)\n",
    "#numpy library code\n",
    "before = datetime.now()\n",
    "for i in range(1000000):\n",
    " np.dot(a,b) # this is from numpy\n",
    "after = datetime.now()\n",
    "print('The Time taken by Numpy Library:',after-before)"
   ]
  },
  {
   "cell_type": "code",
   "execution_count": 6,
   "id": "528f3956",
   "metadata": {},
   "outputs": [
    {
     "name": "stdout",
     "output_type": "stream",
     "text": [
      "Pyton list took :  312.9448890686035\n",
      "Numpy array took :  33.87904167175293\n"
     ]
    }
   ],
   "source": [
    "import numpy as np\n",
    "import time\n",
    "import sys\n",
    "SIZE =1000000\n",
    "l1 = range(SIZE)\n",
    "l2 = range(SIZE)\n",
    "a1 = np.arange(SIZE)\n",
    "a2 = np.arange(SIZE)\n",
    "#python list\n",
    "start = time.time()\n",
    "result = [ (x+y) for x,y in zip(l1,l2)]\n",
    "# adds first element in l1 with first element of l2 and so on\n",
    "print(\"Pyton list took : \",(time.time() - start)*1000)\n",
    "#numpy array\n",
    "start= time.time()\n",
    "result = a1 + a2\n",
    "print(\"Numpy array took : \",(time.time() - start)*1000)"
   ]
  },
  {
   "cell_type": "code",
   "execution_count": 7,
   "id": "d8b330a8",
   "metadata": {},
   "outputs": [
    {
     "name": "stdout",
     "output_type": "stream",
     "text": [
      "Type of a ==> <class 'array.array'>\n",
      "a value ==> array('i', [10, 20, 30])\n",
      "Elements one by one\n",
      "10\n",
      "20\n",
      "30\n"
     ]
    }
   ],
   "source": [
    "import array\n",
    "a = array.array('i',[10,20,30]) # i represents int type array\n",
    "print(f\"Type of a ==> {type(a)}\") # array.array\n",
    "print(f\"a value ==> {a}\")\n",
    "print(\"Elements one by one\")\n",
    "for x in range(len(a)):\n",
    "    print(a[x])\n"
   ]
  },
  {
   "cell_type": "code",
   "execution_count": 8,
   "id": "a3f81267",
   "metadata": {},
   "outputs": [
    {
     "name": "stdout",
     "output_type": "stream",
     "text": [
      "Help on built-in function array in module numpy:\n",
      "\n",
      "array(...)\n",
      "    array(object, dtype=None, *, copy=True, order='K', subok=False, ndmin=0,\n",
      "          like=None)\n",
      "    \n",
      "    Create an array.\n",
      "    \n",
      "    Parameters\n",
      "    ----------\n",
      "    object : array_like\n",
      "        An array, any object exposing the array interface, an object whose\n",
      "        __array__ method returns an array, or any (nested) sequence.\n",
      "    dtype : data-type, optional\n",
      "        The desired data-type for the array.  If not given, then the type will\n",
      "        be determined as the minimum type required to hold the objects in the\n",
      "        sequence.\n",
      "    copy : bool, optional\n",
      "        If true (default), then the object is copied.  Otherwise, a copy will\n",
      "        only be made if __array__ returns a copy, if obj is a nested sequence,\n",
      "        or if a copy is needed to satisfy any of the other requirements\n",
      "        (`dtype`, `order`, etc.).\n",
      "    order : {'K', 'A', 'C', 'F'}, optional\n",
      "        Specify the memory layout of the array. If object is not an array, the\n",
      "        newly created array will be in C order (row major) unless 'F' is\n",
      "        specified, in which case it will be in Fortran order (column major).\n",
      "        If object is an array the following holds.\n",
      "    \n",
      "        ===== ========= ===================================================\n",
      "        order  no copy                     copy=True\n",
      "        ===== ========= ===================================================\n",
      "        'K'   unchanged F & C order preserved, otherwise most similar order\n",
      "        'A'   unchanged F order if input is F and not C, otherwise C order\n",
      "        'C'   C order   C order\n",
      "        'F'   F order   F order\n",
      "        ===== ========= ===================================================\n",
      "    \n",
      "        When ``copy=False`` and a copy is made for other reasons, the result is\n",
      "        the same as if ``copy=True``, with some exceptions for 'A', see the\n",
      "        Notes section. The default order is 'K'.\n",
      "    subok : bool, optional\n",
      "        If True, then sub-classes will be passed-through, otherwise\n",
      "        the returned array will be forced to be a base-class array (default).\n",
      "    ndmin : int, optional\n",
      "        Specifies the minimum number of dimensions that the resulting\n",
      "        array should have.  Ones will be pre-pended to the shape as\n",
      "        needed to meet this requirement.\n",
      "    like : array_like\n",
      "        Reference object to allow the creation of arrays which are not\n",
      "        NumPy arrays. If an array-like passed in as ``like`` supports\n",
      "        the ``__array_function__`` protocol, the result will be defined\n",
      "        by it. In this case, it ensures the creation of an array object\n",
      "        compatible with that passed in via this argument.\n",
      "    \n",
      "        .. versionadded:: 1.20.0\n",
      "    \n",
      "    Returns\n",
      "    -------\n",
      "    out : ndarray\n",
      "        An array object satisfying the specified requirements.\n",
      "    \n",
      "    See Also\n",
      "    --------\n",
      "    empty_like : Return an empty array with shape and type of input.\n",
      "    ones_like : Return an array of ones with shape and type of input.\n",
      "    zeros_like : Return an array of zeros with shape and type of input.\n",
      "    full_like : Return a new array with shape of input filled with value.\n",
      "    empty : Return a new uninitialized array.\n",
      "    ones : Return a new array setting values to one.\n",
      "    zeros : Return a new array setting values to zero.\n",
      "    full : Return a new array of given shape filled with value.\n",
      "    \n",
      "    \n",
      "    Notes\n",
      "    -----\n",
      "    When order is 'A' and `object` is an array in neither 'C' nor 'F' order,\n",
      "    and a copy is forced by a change in dtype, then the order of the result is\n",
      "    not necessarily 'C' as expected. This is likely a bug.\n",
      "    \n",
      "    Examples\n",
      "    --------\n",
      "    >>> np.array([1, 2, 3])\n",
      "    array([1, 2, 3])\n",
      "    \n",
      "    Upcasting:\n",
      "    \n",
      "    >>> np.array([1, 2, 3.0])\n",
      "    array([ 1.,  2.,  3.])\n",
      "    \n",
      "    More than one dimension:\n",
      "    \n",
      "    >>> np.array([[1, 2], [3, 4]])\n",
      "    array([[1, 2],\n",
      "           [3, 4]])\n",
      "    \n",
      "    Minimum dimensions 2:\n",
      "    \n",
      "    >>> np.array([1, 2, 3], ndmin=2)\n",
      "    array([[1, 2, 3]])\n",
      "    \n",
      "    Type provided:\n",
      "    \n",
      "    >>> np.array([1, 2, 3], dtype=complex)\n",
      "    array([ 1.+0.j,  2.+0.j,  3.+0.j])\n",
      "    \n",
      "    Data-type consisting of more than one element:\n",
      "    \n",
      "    >>> x = np.array([(1,2),(3,4)],dtype=[('a','<i4'),('b','<i4')])\n",
      "    >>> x['a']\n",
      "    array([1, 3])\n",
      "    \n",
      "    Creating an array from sub-classes:\n",
      "    \n",
      "    >>> np.array(np.mat('1 2; 3 4'))\n",
      "    array([[1, 2],\n",
      "           [3, 4]])\n",
      "    \n",
      "    >>> np.array(np.mat('1 2; 3 4'), subok=True)\n",
      "    matrix([[1, 2],\n",
      "            [3, 4]])\n",
      "\n"
     ]
    }
   ],
   "source": [
    "import numpy as np\n",
    "help(np.array)"
   ]
  },
  {
   "cell_type": "code",
   "execution_count": 9,
   "id": "a6c564d0",
   "metadata": {},
   "outputs": [
    {
     "name": "stdout",
     "output_type": "stream",
     "text": [
      "Type of l ==> <class 'list'>\n",
      "Type of a ==> <class 'numpy.ndarray'>\n",
      "a ==> [10 20 30]\n"
     ]
    }
   ],
   "source": [
    "# 1-D array creation from list or tuple\n",
    "l = [10,20,30]\n",
    "print(f'Type of l ==> {type(l)}')\n",
    "a = np.array(l)\n",
    "print(f'Type of a ==> {type(a)}')\n",
    "print(f\"a ==> {a}\")\n"
   ]
  },
  {
   "cell_type": "code",
   "execution_count": 10,
   "id": "95069dbe",
   "metadata": {},
   "outputs": [
    {
     "name": "stdout",
     "output_type": "stream",
     "text": [
      "The dimensions of the array a ==> 1\n",
      "The data type of elements of array a ==> int32\n",
      "The size of the array a ==> 3\n",
      "The shape of the array a ==> (3,)\n"
     ]
    }
   ],
   "source": [
    "# properties of ndarray\n",
    "print(f'The dimensions of the array a ==> {a.ndim}')\n",
    "print(f'The data type of elements of array a ==> {a.dtype}')\n",
    "print(f'The size of the array a ==> {a.size}')\n",
    "print(f'The shape of the array a ==> {a.shape}')"
   ]
  },
  {
   "cell_type": "code",
   "execution_count": 11,
   "id": "80a9853d",
   "metadata": {},
   "outputs": [
    {
     "name": "stdout",
     "output_type": "stream",
     "text": [
      "Type of t ==> <class 'tuple'>\n",
      "Type of a ==> <class 'numpy.ndarray'>\n",
      "The data type of elements of array a ==> <U7\n",
      "The size of the array a ==> 3\n",
      "The shape of the array a ==> (3,)\n",
      "a ==> ['krishna' 'nandu' 'moneesh']\n"
     ]
    }
   ],
   "source": [
    "# 1-D array creating using tuples\n",
    "t = ('krishna','nandu','moneesh')\n",
    "print(f'Type of t ==> {type(t)}')\n",
    "a = np.array(t)\n",
    "print(f'Type of a ==> {type(a)}')\n",
    "print(f'The data type of elements of array a ==> {a.dtype}')\n",
    "print(f'The size of the array a ==> {a.size}')\n",
    "print(f'The shape of the array a ==> {a.shape}')\n",
    "print(f\"a ==> {a}\")\n"
   ]
  },
  {
   "cell_type": "code",
   "execution_count": 12,
   "id": "70e7d78e",
   "metadata": {},
   "outputs": [
    {
     "name": "stdout",
     "output_type": "stream",
     "text": [
      "Type of a ==> <class 'numpy.ndarray'>\n",
      "a ==> \n",
      " [[10 20 30]\n",
      " [40 50 60]\n",
      " [70 80 90]]\n",
      "The dimensions of the array a ==> 2\n",
      "The data type of elements of array a ==> int32\n",
      "The size of the array a ==> 9\n",
      "The shape of the array a ==> (3, 3)\n"
     ]
    }
   ],
   "source": [
    "# [[10,20,30],[40,50,60],[70,80,90]] --->Nested List\n",
    "a = np.array([[10,20,30],[40,50,60],[70,80,90]])\n",
    "print(f'Type of a ==> {type(a)}')\n",
    "print(f'a ==> \\n {a}')\n",
    "print(f'The dimensions of the array a ==> {a.ndim}')\n",
    "print(f'The data type of elements of array a ==> {a.dtype}')\n",
    "print(f'The size of the array a ==> {a.size}')\n",
    "print(f'The shape of the array a ==> {a.shape}')"
   ]
  },
  {
   "cell_type": "code",
   "execution_count": 13,
   "id": "3e43fc82",
   "metadata": {},
   "outputs": [
    {
     "name": "stdout",
     "output_type": "stream",
     "text": [
      "a :: [10.  20.  30.5]\n",
      "data type of elements of a ==> float64\n"
     ]
    }
   ],
   "source": [
    "# list contains heterogenous elements\n",
    "l = [10,20,30.5]\n",
    "a = np.array(l) # upcasting to float\n",
    "print(f'a :: {a}')\n",
    "print(f'data type of elements of a ==> {a.dtype}')"
   ]
  },
  {
   "cell_type": "code",
   "execution_count": 14,
   "id": "9730ff46",
   "metadata": {},
   "outputs": [
    {
     "name": "stdout",
     "output_type": "stream",
     "text": [
      "[10 20 30]\n"
     ]
    }
   ],
   "source": [
    "# int type\n",
    "a = np.array([10,20,30.5],dtype=int)\n",
    "print(a)"
   ]
  },
  {
   "cell_type": "code",
   "execution_count": 15,
   "id": "d3927ef4",
   "metadata": {},
   "outputs": [
    {
     "name": "stdout",
     "output_type": "stream",
     "text": [
      "[10.  20.  30.5]\n"
     ]
    }
   ],
   "source": [
    "# float type\n",
    "a = np.array([10,20,30.5],dtype=float)\n",
    "print(a)"
   ]
  },
  {
   "cell_type": "code",
   "execution_count": 16,
   "id": "00d6a928",
   "metadata": {},
   "outputs": [
    {
     "name": "stdout",
     "output_type": "stream",
     "text": [
      "[ True  True  True]\n"
     ]
    }
   ],
   "source": [
    "# bool type ==> any number is True and zero is False. Any string is True and empty string is False\n",
    "a = np.array([10,20,30.5],dtype=bool)\n",
    "print(a)"
   ]
  },
  {
   "cell_type": "code",
   "execution_count": 17,
   "id": "e48a9824",
   "metadata": {},
   "outputs": [
    {
     "name": "stdout",
     "output_type": "stream",
     "text": [
      "[10. +0.j 20. +0.j 30.5+0.j  0. +0.j]\n"
     ]
    }
   ],
   "source": [
    "# complex type\n",
    "a = np.array([10,20,30.5,0],dtype=complex)\n",
    "print(a)"
   ]
  },
  {
   "cell_type": "code",
   "execution_count": 18,
   "id": "9a191624",
   "metadata": {},
   "outputs": [
    {
     "name": "stdout",
     "output_type": "stream",
     "text": [
      "['10' '20' '30.5']\n"
     ]
    }
   ],
   "source": [
    "# str type\n",
    "a = np.array([10,20,30.5],dtype=str)\n",
    "print(a)"
   ]
  },
  {
   "cell_type": "code",
   "execution_count": 19,
   "id": "4509445d",
   "metadata": {},
   "outputs": [
    {
     "name": "stdout",
     "output_type": "stream",
     "text": [
      "[10 'krishna' 10.5 True (10+20j)]\n",
      "Data type of elements of array a ==> object\n"
     ]
    }
   ],
   "source": [
    "a = np.array([10,'krishna',10.5,True,10+20j],dtype=object)\n",
    "print(a)\n",
    "# data type\n",
    "print(f\"Data type of elements of array a ==> {a.dtype}\")"
   ]
  },
  {
   "cell_type": "code",
   "execution_count": 20,
   "id": "4c65ab8a",
   "metadata": {},
   "outputs": [
    {
     "name": "stdout",
     "output_type": "stream",
     "text": [
      "Help on built-in function arange in module numpy:\n",
      "\n",
      "arange(...)\n",
      "    arange([start,] stop[, step,], dtype=None, *, like=None)\n",
      "    \n",
      "    Return evenly spaced values within a given interval.\n",
      "    \n",
      "    Values are generated within the half-open interval ``[start, stop)``\n",
      "    (in other words, the interval including `start` but excluding `stop`).\n",
      "    For integer arguments the function is equivalent to the Python built-in\n",
      "    `range` function, but returns an ndarray rather than a list.\n",
      "    \n",
      "    When using a non-integer step, such as 0.1, the results will often not\n",
      "    be consistent.  It is better to use `numpy.linspace` for these cases.\n",
      "    \n",
      "    Parameters\n",
      "    ----------\n",
      "    start : integer or real, optional\n",
      "        Start of interval.  The interval includes this value.  The default\n",
      "        start value is 0.\n",
      "    stop : integer or real\n",
      "        End of interval.  The interval does not include this value, except\n",
      "        in some cases where `step` is not an integer and floating point\n",
      "        round-off affects the length of `out`.\n",
      "    step : integer or real, optional\n",
      "        Spacing between values.  For any output `out`, this is the distance\n",
      "        between two adjacent values, ``out[i+1] - out[i]``.  The default\n",
      "        step size is 1.  If `step` is specified as a position argument,\n",
      "        `start` must also be given.\n",
      "    dtype : dtype\n",
      "        The type of the output array.  If `dtype` is not given, infer the data\n",
      "        type from the other input arguments.\n",
      "    like : array_like\n",
      "        Reference object to allow the creation of arrays which are not\n",
      "        NumPy arrays. If an array-like passed in as ``like`` supports\n",
      "        the ``__array_function__`` protocol, the result will be defined\n",
      "        by it. In this case, it ensures the creation of an array object\n",
      "        compatible with that passed in via this argument.\n",
      "    \n",
      "        .. versionadded:: 1.20.0\n",
      "    \n",
      "    Returns\n",
      "    -------\n",
      "    arange : ndarray\n",
      "        Array of evenly spaced values.\n",
      "    \n",
      "        For floating point arguments, the length of the result is\n",
      "        ``ceil((stop - start)/step)``.  Because of floating point overflow,\n",
      "        this rule may result in the last element of `out` being greater\n",
      "        than `stop`.\n",
      "    \n",
      "    See Also\n",
      "    --------\n",
      "    numpy.linspace : Evenly spaced numbers with careful handling of endpoints.\n",
      "    numpy.ogrid: Arrays of evenly spaced numbers in N-dimensions.\n",
      "    numpy.mgrid: Grid-shaped arrays of evenly spaced numbers in N-dimensions.\n",
      "    \n",
      "    Examples\n",
      "    --------\n",
      "    >>> np.arange(3)\n",
      "    array([0, 1, 2])\n",
      "    >>> np.arange(3.0)\n",
      "    array([ 0.,  1.,  2.])\n",
      "    >>> np.arange(3,7)\n",
      "    array([3, 4, 5, 6])\n",
      "    >>> np.arange(3,7,2)\n",
      "    array([3, 5])\n",
      "\n"
     ]
    }
   ],
   "source": [
    "import numpy as np\n",
    "help(np.arange)"
   ]
  },
  {
   "cell_type": "code",
   "execution_count": 21,
   "id": "c9c4bd95",
   "metadata": {},
   "outputs": [
    {
     "name": "stdout",
     "output_type": "stream",
     "text": [
      "a ==> [0 1 2 3 4 5 6 7 8 9]\n",
      "The dimensions of the array a ==> 1\n",
      "The data type of elements of array a ==> int32\n",
      "The size of the array a ==> 10\n",
      "The shape of the array a ==> (10,)\n"
     ]
    }
   ],
   "source": [
    "# only stop value ==> 0 to stop-1\n",
    "import numpy as np\n",
    "a = np.arange(10)\n",
    "print(f'a ==> {a}')\n",
    "print(f'The dimensions of the array a ==> {a.ndim}')\n",
    "print(f'The data type of elements of array a ==> {a.dtype}')\n",
    "print(f'The size of the array a ==> {a.size}')\n",
    "print(f'The shape of the array a ==> {a.shape}')"
   ]
  },
  {
   "cell_type": "code",
   "execution_count": 22,
   "id": "5801912b",
   "metadata": {},
   "outputs": [
    {
     "name": "stdout",
     "output_type": "stream",
     "text": [
      "a ==> [ 1  2  3  4  5  6  7  8  9 10]\n",
      "The dimensions of the array a ==> 1\n",
      "The data type of elements of array a ==> int32\n",
      "The size of the array a ==> 10\n",
      "The shape of the array a ==> (10,)\n"
     ]
    }
   ],
   "source": [
    "# both start and stop values: start to stop-1\n",
    "import numpy as np\n",
    "a = np.arange(1,11)\n",
    "print(f'a ==> {a}')\n",
    "print(f'The dimensions of the array a ==> {a.ndim}')\n",
    "print(f'The data type of elements of array a ==> {a.dtype}')\n",
    "print(f'The size of the array a ==> {a.size}')\n",
    "print(f'The shape of the array a ==> {a.shape}')"
   ]
  },
  {
   "cell_type": "code",
   "execution_count": 23,
   "id": "99aba33d",
   "metadata": {},
   "outputs": [
    {
     "name": "stdout",
     "output_type": "stream",
     "text": [
      "a ==> [1 3 5 7 9]\n",
      "The dimensions of the array a ==> 1\n",
      "The data type of elements of array a ==> int32\n",
      "The size of the array a ==> 5\n",
      "The shape of the array a ==> (5,)\n"
     ]
    }
   ],
   "source": [
    "# start, stop and step values : start to stop-1 with step\n",
    "import numpy as np\n",
    "a = np.arange(1,11,2)\n",
    "print(f'a ==> {a}')\n",
    "print(f'The dimensions of the array a ==> {a.ndim}')\n",
    "print(f'The data type of elements of array a ==> {a.dtype}')\n",
    "print(f'The size of the array a ==> {a.size}')\n",
    "print(f'The shape of the array a ==> {a.shape}')"
   ]
  },
  {
   "cell_type": "code",
   "execution_count": 24,
   "id": "b57d6d29",
   "metadata": {},
   "outputs": [
    {
     "name": "stdout",
     "output_type": "stream",
     "text": [
      "a ==> [ 1.  4.  7. 10.]\n",
      "The dimensions of the array a ==> 1\n",
      "The data type of elements of array a ==> float64\n",
      "The size of the array a ==> 4\n",
      "The shape of the array a ==> (4,)\n"
     ]
    }
   ],
   "source": [
    "# with a particular datatype of the elements\n",
    "import numpy as np\n",
    "a = np.arange(1,11,3,dtype=float)\n",
    "print(f'a ==> {a}')\n",
    "print(f'The dimensions of the array a ==> {a.ndim}')\n",
    "print(f'The data type of elements of array a ==> {a.dtype}')\n",
    "print(f'The size of the array a ==> {a.size}')\n",
    "print(f'The shape of the array a ==> {a.shape}')"
   ]
  },
  {
   "cell_type": "code",
   "execution_count": 25,
   "id": "a93ce54c",
   "metadata": {},
   "outputs": [
    {
     "name": "stdout",
     "output_type": "stream",
     "text": [
      "Help on function linspace in module numpy:\n",
      "\n",
      "linspace(start, stop, num=50, endpoint=True, retstep=False, dtype=None, axis=0)\n",
      "    Return evenly spaced numbers over a specified interval.\n",
      "    \n",
      "    Returns `num` evenly spaced samples, calculated over the\n",
      "    interval [`start`, `stop`].\n",
      "    \n",
      "    The endpoint of the interval can optionally be excluded.\n",
      "    \n",
      "    .. versionchanged:: 1.16.0\n",
      "        Non-scalar `start` and `stop` are now supported.\n",
      "    \n",
      "    .. versionchanged:: 1.20.0\n",
      "        Values are rounded towards ``-inf`` instead of ``0`` when an\n",
      "        integer ``dtype`` is specified. The old behavior can\n",
      "        still be obtained with ``np.linspace(start, stop, num).astype(int)``\n",
      "    \n",
      "    Parameters\n",
      "    ----------\n",
      "    start : array_like\n",
      "        The starting value of the sequence.\n",
      "    stop : array_like\n",
      "        The end value of the sequence, unless `endpoint` is set to False.\n",
      "        In that case, the sequence consists of all but the last of ``num + 1``\n",
      "        evenly spaced samples, so that `stop` is excluded.  Note that the step\n",
      "        size changes when `endpoint` is False.\n",
      "    num : int, optional\n",
      "        Number of samples to generate. Default is 50. Must be non-negative.\n",
      "    endpoint : bool, optional\n",
      "        If True, `stop` is the last sample. Otherwise, it is not included.\n",
      "        Default is True.\n",
      "    retstep : bool, optional\n",
      "        If True, return (`samples`, `step`), where `step` is the spacing\n",
      "        between samples.\n",
      "    dtype : dtype, optional\n",
      "        The type of the output array.  If `dtype` is not given, the data type\n",
      "        is inferred from `start` and `stop`. The inferred dtype will never be\n",
      "        an integer; `float` is chosen even if the arguments would produce an\n",
      "        array of integers.\n",
      "    \n",
      "        .. versionadded:: 1.9.0\n",
      "    \n",
      "    axis : int, optional\n",
      "        The axis in the result to store the samples.  Relevant only if start\n",
      "        or stop are array-like.  By default (0), the samples will be along a\n",
      "        new axis inserted at the beginning. Use -1 to get an axis at the end.\n",
      "    \n",
      "        .. versionadded:: 1.16.0\n",
      "    \n",
      "    Returns\n",
      "    -------\n",
      "    samples : ndarray\n",
      "        There are `num` equally spaced samples in the closed interval\n",
      "        ``[start, stop]`` or the half-open interval ``[start, stop)``\n",
      "        (depending on whether `endpoint` is True or False).\n",
      "    step : float, optional\n",
      "        Only returned if `retstep` is True\n",
      "    \n",
      "        Size of spacing between samples.\n",
      "    \n",
      "    \n",
      "    See Also\n",
      "    --------\n",
      "    arange : Similar to `linspace`, but uses a step size (instead of the\n",
      "             number of samples).\n",
      "    geomspace : Similar to `linspace`, but with numbers spaced evenly on a log\n",
      "                scale (a geometric progression).\n",
      "    logspace : Similar to `geomspace`, but with the end points specified as\n",
      "               logarithms.\n",
      "    \n",
      "    Examples\n",
      "    --------\n",
      "    >>> np.linspace(2.0, 3.0, num=5)\n",
      "    array([2.  , 2.25, 2.5 , 2.75, 3.  ])\n",
      "    >>> np.linspace(2.0, 3.0, num=5, endpoint=False)\n",
      "    array([2. ,  2.2,  2.4,  2.6,  2.8])\n",
      "    >>> np.linspace(2.0, 3.0, num=5, retstep=True)\n",
      "    (array([2.  ,  2.25,  2.5 ,  2.75,  3.  ]), 0.25)\n",
      "    \n",
      "    Graphical illustration:\n",
      "    \n",
      "    >>> import matplotlib.pyplot as plt\n",
      "    >>> N = 8\n",
      "    >>> y = np.zeros(N)\n",
      "    >>> x1 = np.linspace(0, 10, N, endpoint=True)\n",
      "    >>> x2 = np.linspace(0, 10, N, endpoint=False)\n",
      "    >>> plt.plot(x1, y, 'o')\n",
      "    [<matplotlib.lines.Line2D object at 0x...>]\n",
      "    >>> plt.plot(x2, y + 0.5, 'o')\n",
      "    [<matplotlib.lines.Line2D object at 0x...>]\n",
      "    >>> plt.ylim([-0.5, 1])\n",
      "    (-0.5, 1)\n",
      "    >>> plt.show()\n",
      "\n"
     ]
    }
   ],
   "source": [
    "import numpy as np\n",
    "help(np.linspace)"
   ]
  },
  {
   "cell_type": "code",
   "execution_count": 26,
   "id": "40c99931",
   "metadata": {},
   "outputs": [
    {
     "data": {
      "text/plain": [
       "array([0.        , 0.02040816, 0.04081633, 0.06122449, 0.08163265,\n",
       "       0.10204082, 0.12244898, 0.14285714, 0.16326531, 0.18367347,\n",
       "       0.20408163, 0.2244898 , 0.24489796, 0.26530612, 0.28571429,\n",
       "       0.30612245, 0.32653061, 0.34693878, 0.36734694, 0.3877551 ,\n",
       "       0.40816327, 0.42857143, 0.44897959, 0.46938776, 0.48979592,\n",
       "       0.51020408, 0.53061224, 0.55102041, 0.57142857, 0.59183673,\n",
       "       0.6122449 , 0.63265306, 0.65306122, 0.67346939, 0.69387755,\n",
       "       0.71428571, 0.73469388, 0.75510204, 0.7755102 , 0.79591837,\n",
       "       0.81632653, 0.83673469, 0.85714286, 0.87755102, 0.89795918,\n",
       "       0.91836735, 0.93877551, 0.95918367, 0.97959184, 1.        ])"
      ]
     },
     "execution_count": 26,
     "metadata": {},
     "output_type": "execute_result"
    }
   ],
   "source": [
    "# 50 evenly spaced values between 0 and 1 are returned including both 0 and 1\n",
    "np.linspace(0,1)"
   ]
  },
  {
   "cell_type": "code",
   "execution_count": 27,
   "id": "2e83c5fd",
   "metadata": {},
   "outputs": [
    {
     "data": {
      "text/plain": [
       "array([0.        , 0.33333333, 0.66666667, 1.        ])"
      ]
     },
     "execution_count": 27,
     "metadata": {},
     "output_type": "execute_result"
    }
   ],
   "source": [
    "# 4 evenly spaced valued between 0 and 1 including 0 and 1\n",
    "np.linspace(0,1,4)"
   ]
  },
  {
   "cell_type": "code",
   "execution_count": 28,
   "id": "1a47251c",
   "metadata": {},
   "outputs": [
    {
     "data": {
      "text/plain": [
       "array([0.  , 0.25, 0.5 , 0.75])"
      ]
     },
     "execution_count": 28,
     "metadata": {},
     "output_type": "execute_result"
    }
   ],
   "source": [
    "# 4 evenly spaced valued between 0 and 1 including 0 and excluding 1\n",
    "np.linspace(0,1,4,endpoint=False)"
   ]
  },
  {
   "cell_type": "code",
   "execution_count": null,
   "id": "21466e23",
   "metadata": {},
   "outputs": [],
   "source": []
  }
 ],
 "metadata": {
  "kernelspec": {
   "display_name": "Python 3 (ipykernel)",
   "language": "python",
   "name": "python3"
  },
  "language_info": {
   "codemirror_mode": {
    "name": "ipython",
    "version": 3
   },
   "file_extension": ".py",
   "mimetype": "text/x-python",
   "name": "python",
   "nbconvert_exporter": "python",
   "pygments_lexer": "ipython3",
   "version": "3.9.12"
  }
 },
 "nbformat": 4,
 "nbformat_minor": 5
}
