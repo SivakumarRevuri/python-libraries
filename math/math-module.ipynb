{
 "cells": [
  {
   "cell_type": "code",
   "execution_count": 1,
   "id": "6e20cc2b",
   "metadata": {},
   "outputs": [],
   "source": [
    "import math #math module import"
   ]
  },
  {
   "cell_type": "code",
   "execution_count": 2,
   "id": "cbcd278c",
   "metadata": {},
   "outputs": [
    {
     "name": "stdout",
     "output_type": "stream",
     "text": [
      "4.0\n",
      "3.141592653589793\n"
     ]
    }
   ],
   "source": [
    "print(math.sqrt(16)) \n",
    "print(math.pi)"
   ]
  },
  {
   "cell_type": "code",
   "execution_count": 3,
   "id": "32dfe89e",
   "metadata": {},
   "outputs": [
    {
     "data": {
      "text/plain": [
       "120"
      ]
     },
     "execution_count": 3,
     "metadata": {},
     "output_type": "execute_result"
    }
   ],
   "source": [
    "math.factorial(5)"
   ]
  },
  {
   "cell_type": "code",
   "execution_count": 4,
   "id": "578710d5",
   "metadata": {},
   "outputs": [],
   "source": [
    "import math as m #module aliasing"
   ]
  },
  {
   "cell_type": "code",
   "execution_count": 5,
   "id": "98f20a3d",
   "metadata": {},
   "outputs": [],
   "source": [
    "# We can import a particular member of a module explicitly as follows\n",
    "from math import sqrt\n",
    "from math import sqrt,pi"
   ]
  },
  {
   "cell_type": "code",
   "execution_count": 6,
   "id": "b2c249df",
   "metadata": {},
   "outputs": [
    {
     "data": {
      "text/plain": [
       "3.141592653589793"
      ]
     },
     "execution_count": 6,
     "metadata": {},
     "output_type": "execute_result"
    }
   ],
   "source": [
    "pi"
   ]
  },
  {
   "cell_type": "code",
   "execution_count": 7,
   "id": "1db37f61",
   "metadata": {},
   "outputs": [
    {
     "data": {
      "text/plain": [
       "4.47213595499958"
      ]
     },
     "execution_count": 7,
     "metadata": {},
     "output_type": "execute_result"
    }
   ],
   "source": [
    "sqrt(20)"
   ]
  },
  {
   "cell_type": "code",
   "execution_count": 8,
   "id": "039042c4",
   "metadata": {},
   "outputs": [
    {
     "data": {
      "text/plain": [
       "2.718281828459045"
      ]
     },
     "execution_count": 8,
     "metadata": {},
     "output_type": "execute_result"
    }
   ],
   "source": [
    "m.e"
   ]
  },
  {
   "cell_type": "raw",
   "id": "99bfd67d",
   "metadata": {},
   "source": [
    "ceil(x)\n",
    "floor(x)\n",
    "pow(x,y)\n",
    "factorial(x)\n",
    "trunc(x)\n",
    "gcd(x,y)\n",
    "sin(x)\n",
    "cos(x)\n",
    "tan(x)"
   ]
  },
  {
   "cell_type": "code",
   "execution_count": 11,
   "id": "a91c5e49",
   "metadata": {},
   "outputs": [
    {
     "data": {
      "text/plain": [
       "0.8939966636005579"
      ]
     },
     "execution_count": 11,
     "metadata": {},
     "output_type": "execute_result"
    }
   ],
   "source": [
    "m.sin(90)"
   ]
  },
  {
   "cell_type": "code",
   "execution_count": 12,
   "id": "8918ae72",
   "metadata": {},
   "outputs": [
    {
     "data": {
      "text/plain": [
       "1.0"
      ]
     },
     "execution_count": 12,
     "metadata": {},
     "output_type": "execute_result"
    }
   ],
   "source": [
    "m.cos(0)"
   ]
  },
  {
   "cell_type": "code",
   "execution_count": 13,
   "id": "7bd8e5f0",
   "metadata": {},
   "outputs": [
    {
     "data": {
      "text/plain": [
       "-0.4480736161291701"
      ]
     },
     "execution_count": 13,
     "metadata": {},
     "output_type": "execute_result"
    }
   ],
   "source": [
    "m.cos(90)"
   ]
  },
  {
   "cell_type": "code",
   "execution_count": null,
   "id": "6385c92a",
   "metadata": {},
   "outputs": [],
   "source": []
  }
 ],
 "metadata": {
  "kernelspec": {
   "display_name": "Python 3 (ipykernel)",
   "language": "python",
   "name": "python3"
  },
  "language_info": {
   "codemirror_mode": {
    "name": "ipython",
    "version": 3
   },
   "file_extension": ".py",
   "mimetype": "text/x-python",
   "name": "python",
   "nbconvert_exporter": "python",
   "pygments_lexer": "ipython3",
   "version": "3.9.12"
  }
 },
 "nbformat": 4,
 "nbformat_minor": 5
}
