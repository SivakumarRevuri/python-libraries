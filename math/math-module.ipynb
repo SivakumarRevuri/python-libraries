{
 "cells": [
  {
   "cell_type": "code",
   "execution_count": 1,
   "id": "f4b57efd",
   "metadata": {},
   "outputs": [],
   "source": [
    "import math #math module import"
   ]
  },
  {
   "cell_type": "code",
   "execution_count": 2,
   "id": "48dbe356",
   "metadata": {},
   "outputs": [
    {
     "name": "stdout",
     "output_type": "stream",
     "text": [
      "4.0\n",
      "3.141592653589793\n"
     ]
    }
   ],
   "source": [
    "print(math.sqrt(16)) \n",
    "print(math.pi)"
   ]
  },
  {
   "cell_type": "code",
   "execution_count": 3,
   "id": "8ddd4653",
   "metadata": {},
   "outputs": [
    {
     "data": {
      "text/plain": [
       "120"
      ]
     },
     "execution_count": 3,
     "metadata": {},
     "output_type": "execute_result"
    }
   ],
   "source": [
    "math.factorial(5)"
   ]
  },
  {
   "cell_type": "code",
   "execution_count": 4,
   "id": "7c9f65ba",
   "metadata": {},
   "outputs": [],
   "source": [
    "import math as m #module aliasing"
   ]
  },
  {
   "cell_type": "code",
   "execution_count": 5,
   "id": "349d1c21",
   "metadata": {},
   "outputs": [],
   "source": [
    "# We can import a particular member of a module explicitly as follows\n",
    "from math import sqrt\n",
    "from math import sqrt,pi"
   ]
  },
  {
   "cell_type": "code",
   "execution_count": 6,
   "id": "886bb77a",
   "metadata": {},
   "outputs": [
    {
     "data": {
      "text/plain": [
       "3.141592653589793"
      ]
     },
     "execution_count": 6,
     "metadata": {},
     "output_type": "execute_result"
    }
   ],
   "source": [
    "pi"
   ]
  },
  {
   "cell_type": "code",
   "execution_count": 7,
   "id": "6a7975f1",
   "metadata": {},
   "outputs": [
    {
     "data": {
      "text/plain": [
       "4.47213595499958"
      ]
     },
     "execution_count": 7,
     "metadata": {},
     "output_type": "execute_result"
    }
   ],
   "source": [
    "sqrt(20)"
   ]
  },
  {
   "cell_type": "code",
   "execution_count": 8,
   "id": "343b791f",
   "metadata": {},
   "outputs": [
    {
     "data": {
      "text/plain": [
       "2.718281828459045"
      ]
     },
     "execution_count": 8,
     "metadata": {},
     "output_type": "execute_result"
    }
   ],
   "source": [
    "m.e"
   ]
  },
  {
   "cell_type": "raw",
   "id": "a4a53284",
   "metadata": {},
   "source": [
    "ceil(x)\n",
    "floor(x)\n",
    "pow(x,y)\n",
    "factorial(x)\n",
    "trunc(x)\n",
    "gcd(x,y)\n",
    "sin(x)\n",
    "cos(x)\n",
    "tan(x)"
   ]
  },
  {
   "cell_type": "code",
   "execution_count": 9,
   "id": "5a90bef9",
   "metadata": {},
   "outputs": [
    {
     "data": {
      "text/plain": [
       "0.8939966636005579"
      ]
     },
     "execution_count": 9,
     "metadata": {},
     "output_type": "execute_result"
    }
   ],
   "source": [
    "m.sin(90)"
   ]
  },
  {
   "cell_type": "code",
   "execution_count": 10,
   "id": "0f13f2a9",
   "metadata": {},
   "outputs": [
    {
     "data": {
      "text/plain": [
       "1.0"
      ]
     },
     "execution_count": 10,
     "metadata": {},
     "output_type": "execute_result"
    }
   ],
   "source": [
    "m.cos(0)"
   ]
  },
  {
   "cell_type": "code",
   "execution_count": 11,
   "id": "84732554",
   "metadata": {},
   "outputs": [
    {
     "data": {
      "text/plain": [
       "-0.4480736161291701"
      ]
     },
     "execution_count": 11,
     "metadata": {},
     "output_type": "execute_result"
    }
   ],
   "source": [
    "m.cos(90)"
   ]
  },
  {
   "cell_type": "code",
   "execution_count": null,
   "id": "a4326a5a",
   "metadata": {},
   "outputs": [],
   "source": []
  }
 ],
 "metadata": {
  "kernelspec": {
   "display_name": "Python 3 (ipykernel)",
   "language": "python",
   "name": "python3"
  },
  "language_info": {
   "codemirror_mode": {
    "name": "ipython",
    "version": 3
   },
   "file_extension": ".py",
   "mimetype": "text/x-python",
   "name": "python",
   "nbconvert_exporter": "python",
   "pygments_lexer": "ipython3",
   "version": "3.9.12"
  }
 },
 "nbformat": 4,
 "nbformat_minor": 5
}
